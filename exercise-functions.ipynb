{
 "cells": [
  {
   "cell_type": "markdown",
   "id": "e3f1d4c1",
   "metadata": {
    "papermill": {
     "duration": 0.011261,
     "end_time": "2022-08-04T09:36:23.449126",
     "exception": false,
     "start_time": "2022-08-04T09:36:23.437865",
     "status": "completed"
    },
    "tags": []
   },
   "source": [
    "**This notebook is an exercise in the [Intro to Programming](https://www.kaggle.com/learn/intro-to-programming) course.  You can reference the tutorial at [this link](https://www.kaggle.com/alexisbcook/functions).**\n",
    "\n",
    "---\n"
   ]
  },
  {
   "cell_type": "markdown",
   "id": "cafa30b1",
   "metadata": {
    "papermill": {
     "duration": 0.006849,
     "end_time": "2022-08-04T09:36:23.463150",
     "exception": false,
     "start_time": "2022-08-04T09:36:23.456301",
     "status": "completed"
    },
    "tags": []
   },
   "source": [
    "In the tutorial, you learned about functions. In this exercise, you'll write some of your own!\n",
    "\n",
    "# Set up the notebook\n",
    "\n",
    "Run the next code cell without changes to set up the notebook."
   ]
  },
  {
   "cell_type": "code",
   "execution_count": 1,
   "id": "d5a3f9a9",
   "metadata": {
    "execution": {
     "iopub.execute_input": "2022-08-04T09:36:23.480868Z",
     "iopub.status.busy": "2022-08-04T09:36:23.479769Z",
     "iopub.status.idle": "2022-08-04T09:36:23.545700Z",
     "shell.execute_reply": "2022-08-04T09:36:23.544557Z"
    },
    "papermill": {
     "duration": 0.07772,
     "end_time": "2022-08-04T09:36:23.549345",
     "exception": false,
     "start_time": "2022-08-04T09:36:23.471625",
     "status": "completed"
    },
    "tags": []
   },
   "outputs": [
    {
     "name": "stdout",
     "output_type": "stream",
     "text": [
      "Setup complete.\n"
     ]
    }
   ],
   "source": [
    "# Set up the exercise\n",
    "import math\n",
    "from learntools.core import binder\n",
    "binder.bind(globals())\n",
    "from learntools.intro_to_programming.ex2 import *\n",
    "print('Setup complete.')"
   ]
  },
  {
   "cell_type": "markdown",
   "id": "e889e6d9",
   "metadata": {
    "papermill": {
     "duration": 0.006304,
     "end_time": "2022-08-04T09:36:23.562652",
     "exception": false,
     "start_time": "2022-08-04T09:36:23.556348",
     "status": "completed"
    },
    "tags": []
   },
   "source": [
    "# Question 1\n",
    "\n",
    "In the [House Prices - Advanced Regression Techniques competition](https://www.kaggle.com/c/house-prices-advanced-regression-techniques/overview), you need to use information like the number of bedrooms and bathrooms to predict the price of a house.  Inspired by this competition, you'll write your own function to do this.\n",
    "\n",
    "In the next code cell, create a function `get_expected_cost()` that has two arguments:\n",
    "- `beds` - number of bedrooms \n",
    "- `baths` - number of bathrooms\n",
    "\n",
    "It should return the expected cost of a house with that number of bedrooms and bathrooms.  Assume that:\n",
    "- the expected cost for a house with 0 bedrooms and 0 bathrooms is `80000`.  \n",
    "- each bedroom adds `30000` to the expected cost\n",
    "- each bathroom adds `10000` to the expected cost.\n",
    "\n",
    "For instance, \n",
    "- a house with 1 bedroom and 1 bathroom has an expected cost of `120000`, and \n",
    "- a house with 2 bedrooms and 1 bathroom has an expected cost of `150000`."
   ]
  },
  {
   "cell_type": "code",
   "execution_count": 2,
   "id": "8ff95bcf",
   "metadata": {
    "execution": {
     "iopub.execute_input": "2022-08-04T09:36:23.578341Z",
     "iopub.status.busy": "2022-08-04T09:36:23.577267Z",
     "iopub.status.idle": "2022-08-04T09:36:23.592333Z",
     "shell.execute_reply": "2022-08-04T09:36:23.591167Z"
    },
    "papermill": {
     "duration": 0.025834,
     "end_time": "2022-08-04T09:36:23.594953",
     "exception": false,
     "start_time": "2022-08-04T09:36:23.569119",
     "status": "completed"
    },
    "tags": []
   },
   "outputs": [
    {
     "data": {
      "application/javascript": [
       "parent.postMessage({\"jupyterEvent\": \"custom.exercise_interaction\", \"data\": {\"outcomeType\": 1, \"valueTowardsCompletion\": 0.2, \"interactionType\": 1, \"questionType\": 2, \"questionId\": \"1_GetExpectedCost\", \"learnToolsVersion\": \"0.3.4\", \"failureMessage\": \"\", \"exceptionClass\": \"\", \"trace\": \"\"}}, \"*\")"
      ],
      "text/plain": [
       "<IPython.core.display.Javascript object>"
      ]
     },
     "metadata": {},
     "output_type": "display_data"
    },
    {
     "data": {
      "text/markdown": [
       "<span style=\"color:#33cc33\">Correct</span>"
      ],
      "text/plain": [
       "Correct"
      ]
     },
     "metadata": {},
     "output_type": "display_data"
    }
   ],
   "source": [
    "# TODO: Complete the function\n",
    "def get_expected_cost(beds, baths):\n",
    "    value = 80000 + 30000 * beds + 10000 * baths\n",
    "    return value\n",
    "\n",
    "# Check your answer \n",
    "q1.check()"
   ]
  },
  {
   "cell_type": "code",
   "execution_count": 3,
   "id": "fcbcc0b5",
   "metadata": {
    "execution": {
     "iopub.execute_input": "2022-08-04T09:36:23.610993Z",
     "iopub.status.busy": "2022-08-04T09:36:23.609977Z",
     "iopub.status.idle": "2022-08-04T09:36:23.615725Z",
     "shell.execute_reply": "2022-08-04T09:36:23.614497Z"
    },
    "papermill": {
     "duration": 0.016504,
     "end_time": "2022-08-04T09:36:23.618330",
     "exception": false,
     "start_time": "2022-08-04T09:36:23.601826",
     "status": "completed"
    },
    "tags": []
   },
   "outputs": [],
   "source": [
    "# Uncomment to see a hint\n",
    "# q1.hint()\n",
    "\n",
    "# Uncomment to view the solution\n",
    "# q1.solution()"
   ]
  },
  {
   "cell_type": "markdown",
   "id": "1d9b4149",
   "metadata": {
    "papermill": {
     "duration": 0.006157,
     "end_time": "2022-08-04T09:36:23.631211",
     "exception": false,
     "start_time": "2022-08-04T09:36:23.625054",
     "status": "completed"
    },
    "tags": []
   },
   "source": [
    "# Question 2\n",
    "\n",
    "You are thinking about buying a home and want to get an idea of how much you will spend, based on the number of bedrooms and bathrooms.  You are trying to decide between four different options:\n",
    "- Option 1: house with two bedrooms and three bathrooms\n",
    "- Option 2: house with three bedrooms and two bathrooms\n",
    "- Option 3: house with three bedrooms and three bathrooms\n",
    "- Option 4: house with three bedrooms and four bathrooms\n",
    "\n",
    "Use the `get_expected_cost()` function you defined in question 1 to set `option_1`, `option_2`, `option_3`, and `option_4` to the expected cost of each option."
   ]
  },
  {
   "cell_type": "code",
   "execution_count": 4,
   "id": "4626de69",
   "metadata": {
    "execution": {
     "iopub.execute_input": "2022-08-04T09:36:23.646683Z",
     "iopub.status.busy": "2022-08-04T09:36:23.645735Z",
     "iopub.status.idle": "2022-08-04T09:36:23.661688Z",
     "shell.execute_reply": "2022-08-04T09:36:23.660387Z"
    },
    "papermill": {
     "duration": 0.026662,
     "end_time": "2022-08-04T09:36:23.664262",
     "exception": false,
     "start_time": "2022-08-04T09:36:23.637600",
     "status": "completed"
    },
    "tags": []
   },
   "outputs": [
    {
     "name": "stdout",
     "output_type": "stream",
     "text": [
      "170000\n",
      "190000\n",
      "200000\n",
      "210000\n"
     ]
    },
    {
     "data": {
      "application/javascript": [
       "parent.postMessage({\"jupyterEvent\": \"custom.exercise_interaction\", \"data\": {\"outcomeType\": 1, \"valueTowardsCompletion\": 0.2, \"interactionType\": 1, \"questionType\": 1, \"questionId\": \"2_RunGetExpectedCost\", \"learnToolsVersion\": \"0.3.4\", \"failureMessage\": \"\", \"exceptionClass\": \"\", \"trace\": \"\"}}, \"*\")"
      ],
      "text/plain": [
       "<IPython.core.display.Javascript object>"
      ]
     },
     "metadata": {},
     "output_type": "display_data"
    },
    {
     "data": {
      "text/markdown": [
       "<span style=\"color:#33cc33\">Correct</span>"
      ],
      "text/plain": [
       "Correct"
      ]
     },
     "metadata": {},
     "output_type": "display_data"
    }
   ],
   "source": [
    "# TODO: Use the get_expected_cost function to fill in each value\n",
    "option_one = get_expected_cost(2, 3)\n",
    "option_two = get_expected_cost(3, 2)\n",
    "option_three = get_expected_cost(3, 3)\n",
    "option_four = get_expected_cost(3, 4)\n",
    "\n",
    "print(option_one)\n",
    "print(option_two)\n",
    "print(option_three)\n",
    "print(option_four)\n",
    "\n",
    "# Check your answer\n",
    "q2.check()"
   ]
  },
  {
   "cell_type": "code",
   "execution_count": 5,
   "id": "a59476d2",
   "metadata": {
    "execution": {
     "iopub.execute_input": "2022-08-04T09:36:23.680357Z",
     "iopub.status.busy": "2022-08-04T09:36:23.679409Z",
     "iopub.status.idle": "2022-08-04T09:36:23.684530Z",
     "shell.execute_reply": "2022-08-04T09:36:23.683475Z"
    },
    "papermill": {
     "duration": 0.015952,
     "end_time": "2022-08-04T09:36:23.686999",
     "exception": false,
     "start_time": "2022-08-04T09:36:23.671047",
     "status": "completed"
    },
    "tags": []
   },
   "outputs": [],
   "source": [
    "# Uncomment to see a hint\n",
    "#q2.hint()\n",
    "\n",
    "# Uncomment to view the solution\n",
    "# q2.solution()"
   ]
  },
  {
   "cell_type": "markdown",
   "id": "e94ac47d",
   "metadata": {
    "papermill": {
     "duration": 0.006298,
     "end_time": "2022-08-04T09:36:23.700215",
     "exception": false,
     "start_time": "2022-08-04T09:36:23.693917",
     "status": "completed"
    },
    "tags": []
   },
   "source": [
    "# Question 3\n",
    "\n",
    "You're a home decorator, and you'd like to use Python to streamline some of your work.  Specifically, you're creating a tool that you intend to use to calculate the cost of painting a room.\n",
    "\n",
    "As a first step, define a function `get_cost()` that takes as input:\n",
    "- `sqft_walls` = total square feet of walls to be painted\n",
    "- `sqft_ceiling` = square feet of ceiling to be painted\n",
    "- `sqft_per_gallon` = number of square feet that you can cover with one gallon of paint\n",
    "- `cost_per_gallon` = cost (in dollars) of one gallon of paint\n",
    "\n",
    "It should return the cost (in dollars) of putting one coat of paint on all walls and the ceiling.  Assume you can buy the exact amount of paint that you need, so you can buy partial gallons (e.g., if you need 7.523 gallons, you can buy that exact amount, instead of needing to buy 8 gallons and waste some paint).  Do not round your answer."
   ]
  },
  {
   "cell_type": "code",
   "execution_count": 6,
   "id": "aff9b651",
   "metadata": {
    "execution": {
     "iopub.execute_input": "2022-08-04T09:36:23.716031Z",
     "iopub.status.busy": "2022-08-04T09:36:23.715122Z",
     "iopub.status.idle": "2022-08-04T09:36:23.726140Z",
     "shell.execute_reply": "2022-08-04T09:36:23.724878Z"
    },
    "papermill": {
     "duration": 0.021882,
     "end_time": "2022-08-04T09:36:23.728716",
     "exception": false,
     "start_time": "2022-08-04T09:36:23.706834",
     "status": "completed"
    },
    "tags": []
   },
   "outputs": [
    {
     "data": {
      "application/javascript": [
       "parent.postMessage({\"jupyterEvent\": \"custom.exercise_interaction\", \"data\": {\"outcomeType\": 1, \"valueTowardsCompletion\": 0.2, \"interactionType\": 1, \"questionType\": 2, \"questionId\": \"3_GetCostPaint\", \"learnToolsVersion\": \"0.3.4\", \"failureMessage\": \"\", \"exceptionClass\": \"\", \"trace\": \"\"}}, \"*\")"
      ],
      "text/plain": [
       "<IPython.core.display.Javascript object>"
      ]
     },
     "metadata": {},
     "output_type": "display_data"
    },
    {
     "data": {
      "text/markdown": [
       "<span style=\"color:#33cc33\">Correct</span>"
      ],
      "text/plain": [
       "Correct"
      ]
     },
     "metadata": {},
     "output_type": "display_data"
    }
   ],
   "source": [
    "# TODO: Finish defining the function\n",
    "def get_cost(sqft_walls, sqft_ceiling, sqft_per_gallon, cost_per_gallon):\n",
    "    total_sqft = sqft_walls + sqft_ceiling\n",
    "    gallons_needed = total_sqft / sqft_per_gallon\n",
    "    cost = cost_per_gallon * gallons_needed\n",
    "    return cost\n",
    "\n",
    "# Check your answer\n",
    "q3.check()"
   ]
  },
  {
   "cell_type": "code",
   "execution_count": 7,
   "id": "639faa70",
   "metadata": {
    "execution": {
     "iopub.execute_input": "2022-08-04T09:36:23.745874Z",
     "iopub.status.busy": "2022-08-04T09:36:23.744660Z",
     "iopub.status.idle": "2022-08-04T09:36:23.750123Z",
     "shell.execute_reply": "2022-08-04T09:36:23.748746Z"
    },
    "papermill": {
     "duration": 0.016835,
     "end_time": "2022-08-04T09:36:23.752830",
     "exception": false,
     "start_time": "2022-08-04T09:36:23.735995",
     "status": "completed"
    },
    "tags": []
   },
   "outputs": [],
   "source": [
    "# Uncomment to see a hint\n",
    "# q3.hint()\n",
    "\n",
    "# Uncomment to view the solution\n",
    "# q3.solution()"
   ]
  },
  {
   "cell_type": "markdown",
   "id": "d3dc38fb",
   "metadata": {
    "papermill": {
     "duration": 0.007272,
     "end_time": "2022-08-04T09:36:23.767455",
     "exception": false,
     "start_time": "2022-08-04T09:36:23.760183",
     "status": "completed"
    },
    "tags": []
   },
   "source": [
    "# Question 4\n",
    "\n",
    "Use the `get_cost()` function you defined in Question 3 to calculate the cost of applying one coat of paint to a room with:\n",
    "- 432 square feet of walls, and\n",
    "- 144 square feet of ceiling.\n",
    "\n",
    "Assume that one gallon of paint covers 400 square feet and costs $15.  As in Question 3, assume you can buy partial gallons of paint.  Do not round your answer."
   ]
  },
  {
   "cell_type": "code",
   "execution_count": 8,
   "id": "839f0c24",
   "metadata": {
    "execution": {
     "iopub.execute_input": "2022-08-04T09:36:23.785919Z",
     "iopub.status.busy": "2022-08-04T09:36:23.784819Z",
     "iopub.status.idle": "2022-08-04T09:36:23.795839Z",
     "shell.execute_reply": "2022-08-04T09:36:23.794745Z"
    },
    "papermill": {
     "duration": 0.022969,
     "end_time": "2022-08-04T09:36:23.798621",
     "exception": false,
     "start_time": "2022-08-04T09:36:23.775652",
     "status": "completed"
    },
    "tags": []
   },
   "outputs": [
    {
     "data": {
      "application/javascript": [
       "parent.postMessage({\"jupyterEvent\": \"custom.exercise_interaction\", \"data\": {\"outcomeType\": 1, \"valueTowardsCompletion\": 0.2, \"interactionType\": 1, \"questionType\": 1, \"questionId\": \"4_GetCostPaintExample\", \"learnToolsVersion\": \"0.3.4\", \"failureMessage\": \"\", \"exceptionClass\": \"\", \"trace\": \"\"}}, \"*\")"
      ],
      "text/plain": [
       "<IPython.core.display.Javascript object>"
      ]
     },
     "metadata": {},
     "output_type": "display_data"
    },
    {
     "data": {
      "text/markdown": [
       "<span style=\"color:#33cc33\">Correct</span>"
      ],
      "text/plain": [
       "Correct"
      ]
     },
     "metadata": {},
     "output_type": "display_data"
    }
   ],
   "source": [
    "# TODO: Set the project_cost variable to the cost of the project\n",
    "project_cost = get_cost(432, 144, 400, 15)\n",
    "\n",
    "# Check your answer\n",
    "q4.check()"
   ]
  },
  {
   "cell_type": "code",
   "execution_count": 9,
   "id": "b79ea938",
   "metadata": {
    "execution": {
     "iopub.execute_input": "2022-08-04T09:36:23.815685Z",
     "iopub.status.busy": "2022-08-04T09:36:23.814645Z",
     "iopub.status.idle": "2022-08-04T09:36:23.819894Z",
     "shell.execute_reply": "2022-08-04T09:36:23.818766Z"
    },
    "papermill": {
     "duration": 0.016638,
     "end_time": "2022-08-04T09:36:23.822498",
     "exception": false,
     "start_time": "2022-08-04T09:36:23.805860",
     "status": "completed"
    },
    "tags": []
   },
   "outputs": [],
   "source": [
    "# Uncomment to see a hint\n",
    "#q4.hint()\n",
    "\n",
    "# Uncomment to view the solution\n",
    "# q4.solution()"
   ]
  },
  {
   "cell_type": "markdown",
   "id": "5edda4af",
   "metadata": {
    "papermill": {
     "duration": 0.007828,
     "end_time": "2022-08-04T09:36:23.839653",
     "exception": false,
     "start_time": "2022-08-04T09:36:23.831825",
     "status": "completed"
    },
    "tags": []
   },
   "source": [
    "# 🌶️ Question 5\n",
    "\n",
    "Now say you can no longer buy fractions of a gallon.  (For instance, if you need 4.3 gallons to do a project, then you have to buy 5 gallons of paint.)\n",
    "\n",
    "With this new scenario, you will create a new function `get_actual_cost` that uses the same inputs and calculates the cost of your project.\n",
    "\n",
    "One function that you'll need to use to do this is `math.ceil()`.  We demonstrate usage of this function in the code cell below.  It takes as a number as input and rounds the number up to the nearest integer.  \n",
    "\n",
    "Run the next code cell to test this function for yourself.  Feel free to change the value of `test_value` and make sure `math.ceil()` returns the number you expect."
   ]
  },
  {
   "cell_type": "code",
   "execution_count": 10,
   "id": "6274c8b7",
   "metadata": {
    "execution": {
     "iopub.execute_input": "2022-08-04T09:36:23.856560Z",
     "iopub.status.busy": "2022-08-04T09:36:23.855629Z",
     "iopub.status.idle": "2022-08-04T09:36:23.866909Z",
     "shell.execute_reply": "2022-08-04T09:36:23.865816Z"
    },
    "papermill": {
     "duration": 0.022891,
     "end_time": "2022-08-04T09:36:23.869687",
     "exception": false,
     "start_time": "2022-08-04T09:36:23.846796",
     "status": "completed"
    },
    "tags": []
   },
   "outputs": [
    {
     "name": "stdout",
     "output_type": "stream",
     "text": [
      "164\n"
     ]
    }
   ],
   "source": [
    "test_value = 163.55\n",
    "\n",
    "rounded_value = math.ceil(test_value)\n",
    "print(rounded_value)"
   ]
  },
  {
   "cell_type": "markdown",
   "id": "2c4825a5",
   "metadata": {
    "papermill": {
     "duration": 0.007941,
     "end_time": "2022-08-04T09:36:23.888411",
     "exception": false,
     "start_time": "2022-08-04T09:36:23.880470",
     "status": "completed"
    },
    "tags": []
   },
   "source": [
    "Use the next code cell to define the function `get_actual_cost()`.  You'll need to use the `math.ceil()` function to do this.\n",
    "\n",
    "When answering this question, note that it's completely valid to define a function that makes use of another function.  For instance, we can define a function `round_up_and_divide_by_three` that makes use of the `math.ceil` function:\n",
    "```\n",
    "def round_up_and_divide_by_three(num):\n",
    "    new_value = math.ceil(num)\n",
    "    final_value = new_value / 3\n",
    "    return final_value\n",
    "```"
   ]
  },
  {
   "cell_type": "code",
   "execution_count": 11,
   "id": "0bc2b094",
   "metadata": {
    "execution": {
     "iopub.execute_input": "2022-08-04T09:36:23.904627Z",
     "iopub.status.busy": "2022-08-04T09:36:23.904102Z",
     "iopub.status.idle": "2022-08-04T09:36:23.915643Z",
     "shell.execute_reply": "2022-08-04T09:36:23.914579Z"
    },
    "papermill": {
     "duration": 0.023337,
     "end_time": "2022-08-04T09:36:23.918911",
     "exception": false,
     "start_time": "2022-08-04T09:36:23.895574",
     "status": "completed"
    },
    "tags": []
   },
   "outputs": [
    {
     "data": {
      "application/javascript": [
       "parent.postMessage({\"jupyterEvent\": \"custom.exercise_interaction\", \"data\": {\"outcomeType\": 1, \"valueTowardsCompletion\": 0.2, \"interactionType\": 1, \"questionType\": 2, \"questionId\": \"5_NoMoreFractions\", \"learnToolsVersion\": \"0.3.4\", \"failureMessage\": \"\", \"exceptionClass\": \"\", \"trace\": \"\"}}, \"*\")"
      ],
      "text/plain": [
       "<IPython.core.display.Javascript object>"
      ]
     },
     "metadata": {},
     "output_type": "display_data"
    },
    {
     "data": {
      "text/markdown": [
       "<span style=\"color:#33cc33\">Correct</span>"
      ],
      "text/plain": [
       "Correct"
      ]
     },
     "metadata": {},
     "output_type": "display_data"
    }
   ],
   "source": [
    "def get_actual_cost(sqft_walls, sqft_ceiling, sqft_per_gallon, cost_per_gallon):\n",
    "    total_sqft = sqft_walls + sqft_ceiling\n",
    "    total_gallon = total_sqft / sqft_per_gallon\n",
    "    new_cost = cost_per_gallon * math.ceil(total_gallon)\n",
    "    \n",
    "    return new_cost\n",
    "\n",
    "# Check your answer\n",
    "q5.check()"
   ]
  },
  {
   "cell_type": "code",
   "execution_count": 12,
   "id": "c7ae407f",
   "metadata": {
    "execution": {
     "iopub.execute_input": "2022-08-04T09:36:23.940346Z",
     "iopub.status.busy": "2022-08-04T09:36:23.939824Z",
     "iopub.status.idle": "2022-08-04T09:36:23.944922Z",
     "shell.execute_reply": "2022-08-04T09:36:23.943829Z"
    },
    "papermill": {
     "duration": 0.020036,
     "end_time": "2022-08-04T09:36:23.950132",
     "exception": false,
     "start_time": "2022-08-04T09:36:23.930096",
     "status": "completed"
    },
    "tags": []
   },
   "outputs": [],
   "source": [
    "# Uncomment to see a hint\n",
    "#q5.hint()\n",
    "\n",
    "# Uncomment to view the solution\n",
    "# q5.solution()"
   ]
  },
  {
   "cell_type": "markdown",
   "id": "20de2e6e",
   "metadata": {
    "papermill": {
     "duration": 0.007023,
     "end_time": "2022-08-04T09:36:23.966850",
     "exception": false,
     "start_time": "2022-08-04T09:36:23.959827",
     "status": "completed"
    },
    "tags": []
   },
   "source": [
    "Once your function is verified as correct, run the next code cell to calculate the updated cost of your project."
   ]
  },
  {
   "cell_type": "code",
   "execution_count": 13,
   "id": "a252e13c",
   "metadata": {
    "execution": {
     "iopub.execute_input": "2022-08-04T09:36:23.983664Z",
     "iopub.status.busy": "2022-08-04T09:36:23.983148Z",
     "iopub.status.idle": "2022-08-04T09:36:23.991709Z",
     "shell.execute_reply": "2022-08-04T09:36:23.990574Z"
    },
    "papermill": {
     "duration": 0.020166,
     "end_time": "2022-08-04T09:36:23.994564",
     "exception": false,
     "start_time": "2022-08-04T09:36:23.974398",
     "status": "completed"
    },
    "tags": []
   },
   "outputs": [
    {
     "data": {
      "text/plain": [
       "30"
      ]
     },
     "execution_count": 13,
     "metadata": {},
     "output_type": "execute_result"
    }
   ],
   "source": [
    "get_actual_cost(432, 144, 400, 15) "
   ]
  },
  {
   "cell_type": "markdown",
   "id": "11b5e8b5",
   "metadata": {
    "papermill": {
     "duration": 0.007188,
     "end_time": "2022-08-04T09:36:24.009343",
     "exception": false,
     "start_time": "2022-08-04T09:36:24.002155",
     "status": "completed"
    },
    "tags": []
   },
   "source": [
    "Say you're working with a slightly larger room.  Run the next code cell to calculate the cost of the project."
   ]
  },
  {
   "cell_type": "code",
   "execution_count": 14,
   "id": "355ddabb",
   "metadata": {
    "execution": {
     "iopub.execute_input": "2022-08-04T09:36:24.027743Z",
     "iopub.status.busy": "2022-08-04T09:36:24.026914Z",
     "iopub.status.idle": "2022-08-04T09:36:24.034753Z",
     "shell.execute_reply": "2022-08-04T09:36:24.033386Z"
    },
    "papermill": {
     "duration": 0.020063,
     "end_time": "2022-08-04T09:36:24.037250",
     "exception": false,
     "start_time": "2022-08-04T09:36:24.017187",
     "status": "completed"
    },
    "tags": []
   },
   "outputs": [
    {
     "data": {
      "text/plain": [
       "45"
      ]
     },
     "execution_count": 14,
     "metadata": {},
     "output_type": "execute_result"
    }
   ],
   "source": [
    "get_actual_cost(594, 288, 400, 15) "
   ]
  },
  {
   "cell_type": "markdown",
   "id": "8ec86b9e",
   "metadata": {
    "papermill": {
     "duration": 0.009651,
     "end_time": "2022-08-04T09:36:24.054587",
     "exception": false,
     "start_time": "2022-08-04T09:36:24.044936",
     "status": "completed"
    },
    "tags": []
   },
   "source": [
    "# Keep going\n",
    "\n",
    "Continue to learn about **[data types](https://www.kaggle.com/alexisbcook/data-types)**."
   ]
  },
  {
   "cell_type": "markdown",
   "id": "d86bbaed",
   "metadata": {
    "papermill": {
     "duration": 0.007304,
     "end_time": "2022-08-04T09:36:24.070085",
     "exception": false,
     "start_time": "2022-08-04T09:36:24.062781",
     "status": "completed"
    },
    "tags": []
   },
   "source": [
    "---\n",
    "\n",
    "\n",
    "\n",
    "\n",
    "*Have questions or comments? Visit the [course discussion forum](https://www.kaggle.com/learn/intro-to-programming/discussion) to chat with other learners.*"
   ]
  }
 ],
 "metadata": {
  "kernelspec": {
   "display_name": "Python 3",
   "language": "python",
   "name": "python3"
  },
  "language_info": {
   "codemirror_mode": {
    "name": "ipython",
    "version": 3
   },
   "file_extension": ".py",
   "mimetype": "text/x-python",
   "name": "python",
   "nbconvert_exporter": "python",
   "pygments_lexer": "ipython3",
   "version": "3.7.12"
  },
  "papermill": {
   "default_parameters": {},
   "duration": 12.470511,
   "end_time": "2022-08-04T09:36:24.800513",
   "environment_variables": {},
   "exception": null,
   "input_path": "__notebook__.ipynb",
   "output_path": "__notebook__.ipynb",
   "parameters": {},
   "start_time": "2022-08-04T09:36:12.330002",
   "version": "2.3.4"
  }
 },
 "nbformat": 4,
 "nbformat_minor": 5
}
